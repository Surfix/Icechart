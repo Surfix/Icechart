{
 "cells": [
  {
   "cell_type": "code",
   "execution_count": 4,
   "id": "connected-jungle",
   "metadata": {},
   "outputs": [],
   "source": [
    "import icechart"
   ]
  },
  {
   "cell_type": "code",
   "execution_count": 5,
   "id": "charming-deviation",
   "metadata": {},
   "outputs": [
    {
     "data": {
      "application/vnd.jupyter.widget-view+json": {
       "model_id": "ec3ea55eab9e4212b4ce3a1829bbff62",
       "version_major": 2,
       "version_minor": 0
      },
      "text/plain": [
       "Map(center=[9, 8], controls=(ZoomControl(options=['position', 'zoom_in_text', 'zoom_in_title', 'zoom_out_text'…"
      ]
     },
     "metadata": {},
     "output_type": "display_data"
    }
   ],
   "source": [
    "m = icechart.Map()\n",
    "m"
   ]
  },
  {
   "cell_type": "code",
   "execution_count": 6,
   "id": "unsigned-smell",
   "metadata": {},
   "outputs": [],
   "source": [
    "m.add_geojson(\"./data/us_states.geojson\", layer_name=\"GeoJSON\")"
   ]
  },
  {
   "cell_type": "code",
   "execution_count": 7,
   "id": "criminal-bones",
   "metadata": {},
   "outputs": [],
   "source": [
    "m.add_geojson(\"./data/countries.json\")"
   ]
  },
  {
   "cell_type": "code",
   "execution_count": 8,
   "id": "defensive-negotiation",
   "metadata": {},
   "outputs": [
    {
     "data": {
      "text/plain": [
       "'rcslv'"
      ]
     },
     "execution_count": 8,
     "metadata": {},
     "output_type": "execute_result"
    }
   ],
   "source": [
    "icechart.random_string(5)"
   ]
  },
  {
   "cell_type": "code",
   "execution_count": null,
   "id": "administrative-savage",
   "metadata": {},
   "outputs": [],
   "source": []
  }
 ],
 "metadata": {
  "kernelspec": {
   "display_name": "Python 3",
   "language": "python",
   "name": "python3"
  },
  "language_info": {
   "codemirror_mode": {
    "name": "ipython",
    "version": 3
   },
   "file_extension": ".py",
   "mimetype": "text/x-python",
   "name": "python",
   "nbconvert_exporter": "python",
   "pygments_lexer": "ipython3",
   "version": "3.8.8"
  }
 },
 "nbformat": 4,
 "nbformat_minor": 5
}
