{
 "cells": [
  {
   "cell_type": "code",
   "execution_count": null,
   "id": "capable-wayne",
   "metadata": {},
   "outputs": [],
   "source": [
    "import icechart\n",
    "import os"
   ]
  },
  {
   "cell_type": "code",
   "execution_count": null,
   "id": "applied-onion",
   "metadata": {},
   "outputs": [],
   "source": [
    "m = icechart.Map()\n",
    "m"
   ]
  },
  {
   "cell_type": "code",
   "execution_count": null,
   "id": "fallen-water",
   "metadata": {},
   "outputs": [],
   "source": [
    "in_shp = \"./data/countries.shp\""
   ]
  },
  {
   "cell_type": "code",
   "execution_count": null,
   "id": "experimental-archives",
   "metadata": {},
   "outputs": [],
   "source": [
    "m.add_shapefile(in_shp, layer_name = \"Shapefile\")"
   ]
  },
  {
   "cell_type": "code",
   "execution_count": null,
   "id": "unlikely-mainstream",
   "metadata": {},
   "outputs": [],
   "source": [
    "jsondata = \"./data/countries.json\""
   ]
  },
  {
   "cell_type": "code",
   "execution_count": null,
   "id": "mineral-version",
   "metadata": {},
   "outputs": [],
   "source": [
    "style = {\n",
    "    \"stroke\": True,\n",
    "    \"color\": \"#ff0000\",\n",
    "    \"weight\": 2,\n",
    "    \"opacity\": 1,\n",
    "    \"fill\": True,\n",
    "    \"fillColor\": \"#000000\",\n",
    "    \"fillOpacity\": 0.4,\n",
    "}"
   ]
  },
  {
   "cell_type": "code",
   "execution_count": null,
   "id": "exact-estimate",
   "metadata": {},
   "outputs": [],
   "source": [
    "m.add_geojson(jsondata, style=style, layer_name= 'World-boundary')"
   ]
  },
  {
   "cell_type": "code",
   "execution_count": null,
   "id": "saving-campbell",
   "metadata": {},
   "outputs": [],
   "source": [
    "m"
   ]
  },
  {
   "cell_type": "code",
   "execution_count": null,
   "id": "innovative-administrator",
   "metadata": {},
   "outputs": [],
   "source": []
  }
 ],
 "metadata": {
  "kernelspec": {
   "display_name": "Python 3",
   "language": "python",
   "name": "python3"
  },
  "language_info": {
   "codemirror_mode": {
    "name": "ipython",
    "version": 3
   },
   "file_extension": ".py",
   "mimetype": "text/x-python",
   "name": "python",
   "nbconvert_exporter": "python",
   "pygments_lexer": "ipython3",
   "version": "3.8.8"
  }
 },
 "nbformat": 4,
 "nbformat_minor": 5
}
